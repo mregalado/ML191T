{
 "cells": [
  {
   "cell_type": "markdown",
   "metadata": {},
   "source": [
    "#Decision Tree Regressor"
   ]
  },
  {
   "cell_type": "code",
   "execution_count": 1,
   "metadata": {
    "collapsed": true
   },
   "outputs": [],
   "source": [
    "# To support both python 2 and python 3\n",
    "from __future__ import division, print_function, unicode_literals\n",
    "\n",
    "# Common imports\n",
    "import numpy as np\n",
    "import os\n",
    "\n",
    "# to make this notebook's output stable across runs\n",
    "np.random.seed(42)\n",
    "\n",
    "# To plot pretty figures\n",
    "%matplotlib inline\n",
    "import matplotlib\n",
    "import matplotlib.pyplot as plt\n",
    "\n",
    "import os\n",
    "import tarfile\n",
    "from six.moves import urllib\n",
    "\n",
    "import pandas as pd"
   ]
  },
  {
   "cell_type": "code",
   "execution_count": 2,
   "metadata": {},
   "outputs": [
    {
     "name": "stdout",
     "output_type": "stream",
     "text": [
      "https://raw.githubusercontent.com/ageron/handson-ml/master/datasets/housing/housing.tgz\n",
      "datasets\\housing\n"
     ]
    }
   ],
   "source": [
    "DOWNLOAD_ROOT = \"https://raw.githubusercontent.com/ageron/handson-ml/master/\"\n",
    "HOUSING_PATH = os.path.join(\"datasets\", \"housing\")\n",
    "HOUSING_URL = DOWNLOAD_ROOT + \"datasets/housing/housing.tgz\"\n",
    "\n",
    "print (HOUSING_URL)\n",
    "print (HOUSING_PATH)\n",
    "def fetch_housing_data(housing_url=HOUSING_URL, housing_path=HOUSING_PATH):\n",
    "    if not os.path.isdir(housing_path):\n",
    "        os.makedirs(housing_path)\n",
    "    tgz_path = os.path.join(housing_path, \"housing.tgz\")\n",
    "    urllib.request.urlretrieve(housing_url, tgz_path)\n",
    "    housing_tgz = tarfile.open(tgz_path)\n",
    "    housing_tgz.extractall(path=housing_path)\n",
    "    housing_tgz.close()"
   ]
  },
  {
   "cell_type": "code",
   "execution_count": 46,
   "metadata": {},
   "outputs": [
    {
     "name": "stdout",
     "output_type": "stream",
     "text": [
      "<class 'pandas.core.frame.DataFrame'>\n",
      "RangeIndex: 20640 entries, 0 to 20639\n",
      "Data columns (total 10 columns):\n",
      "longitude             20640 non-null float64\n",
      "latitude              20640 non-null float64\n",
      "housing_median_age    20640 non-null float64\n",
      "total_rooms           20640 non-null float64\n",
      "total_bedrooms        20433 non-null float64\n",
      "population            20640 non-null float64\n",
      "households            20640 non-null float64\n",
      "median_income         20640 non-null float64\n",
      "median_house_value    20640 non-null float64\n",
      "ocean_proximity       20640 non-null object\n",
      "dtypes: float64(9), object(1)\n",
      "memory usage: 1.6+ MB\n",
      "None\n"
     ]
    }
   ],
   "source": [
    "fetch_housing_data()\n",
    "housing = pd.read_csv(\"datasets/housing/housing.csv\")\n",
    "print (housing.info())"
   ]
  },
  {
   "cell_type": "code",
   "execution_count": null,
   "metadata": {},
   "outputs": [],
   "source": []
  },
  {
   "cell_type": "code",
   "execution_count": null,
   "metadata": {},
   "outputs": [],
   "source": []
  },
  {
   "cell_type": "code",
   "execution_count": 47,
   "metadata": {},
   "outputs": [
    {
     "name": "stdout",
     "output_type": "stream",
     "text": [
      "\n",
      "Training Percentages:\n",
      "\n",
      "longitude             0.800000\n",
      "latitude              0.800000\n",
      "housing_median_age    0.800000\n",
      "total_rooms           0.800000\n",
      "total_bedrooms        0.808105\n",
      "population            0.800000\n",
      "households            0.800000\n",
      "median_income         0.800000\n",
      "median_house_value    0.800000\n",
      "ocean_proximity       0.800000\n",
      "dtype: float64\n"
     ]
    }
   ],
   "source": [
    "from sklearn.model_selection import train_test_split\n",
    "\n",
    "train_set, test_set = train_test_split(housing, test_size=0.2, random_state=42)\n",
    "\n",
    "print( \"\\nTraining Percentages:\\n\" )\n",
    "print(train_set.count()/housing.count())"
   ]
  },
  {
   "cell_type": "code",
   "execution_count": 48,
   "metadata": {},
   "outputs": [
    {
     "name": "stdout",
     "output_type": "stream",
     "text": [
      "<class 'pandas.core.series.Series'>\n",
      "count    20640.000000\n",
      "mean         3.870671\n",
      "std          1.899822\n",
      "min          0.499900\n",
      "25%          2.563400\n",
      "50%          3.534800\n",
      "75%          4.743250\n",
      "max         15.000100\n",
      "Name: median_income, dtype: float64\n",
      "count     16512.000000\n",
      "mean     207194.693738\n",
      "std      115622.626448\n",
      "min       14999.000000\n",
      "25%      119800.000000\n",
      "50%      179850.000000\n",
      "75%      265125.000000\n",
      "max      500001.000000\n",
      "Name: median_house_value, dtype: float64\n"
     ]
    }
   ],
   "source": [
    "housing_labels = train_set[\"median_house_value\"].copy()\n",
    "\n",
    "housing_m = housing[\"median_income\"].copy()\n",
    "print(type(housing_m))\n",
    "print (housing_m.describe())\n",
    "\n",
    "print (housing_labels.describe())"
   ]
  },
  {
   "cell_type": "code",
   "execution_count": null,
   "metadata": {},
   "outputs": [],
   "source": []
  },
  {
   "cell_type": "code",
   "execution_count": 49,
   "metadata": {},
   "outputs": [
    {
     "name": "stdout",
     "output_type": "stream",
     "text": [
      "count     16512.000000\n",
      "mean     207194.693738\n",
      "std      115622.626448\n",
      "min       14999.000000\n",
      "25%      119800.000000\n",
      "50%      179850.000000\n",
      "75%      265125.000000\n",
      "max      500001.000000\n",
      "Name: median_house_value, dtype: float64\n",
      "<class 'pandas.core.series.Series'>\n",
      "count    20640.000000\n",
      "mean         3.870671\n",
      "std          1.899822\n",
      "min          0.499900\n",
      "25%          2.563400\n",
      "50%          3.534800\n",
      "75%          4.743250\n",
      "max         15.000100\n",
      "Name: median_income, dtype: float64\n"
     ]
    }
   ],
   "source": [
    "housing_labels = train_set[\"median_house_value\"].copy()\n",
    "print (housing_labels.describe())\n",
    "\n",
    "housing_m = housing[\"median_income\"].copy()\n",
    "print(type(housing_m))\n",
    "print (housing_m.describe())\n",
    "\n"
   ]
  },
  {
   "cell_type": "code",
   "execution_count": 50,
   "metadata": {},
   "outputs": [],
   "source": [
    "from sklearn.model_selection import train_test_split\n",
    "\n",
    "train_set, test_set = train_test_split(housing, test_size=0.2, random_state=42)\n",
    "housing = train_set.drop(\"median_house_value\", axis=1) # drop labels for training set\n",
    "housing_labels = train_set[\"median_house_value\"].copy()\n",
    "housing_m = housing[\"median_income\"].copy()\n",
    "\n"
   ]
  },
  {
   "cell_type": "code",
   "execution_count": 51,
   "metadata": {},
   "outputs": [
    {
     "name": "stdout",
     "output_type": "stream",
     "text": [
      "(16512, 1)\n"
     ]
    },
    {
     "data": {
      "text/plain": [
       "DecisionTreeRegressor(criterion='mse', max_depth=None, max_features=None,\n",
       "           max_leaf_nodes=None, min_impurity_decrease=0.0,\n",
       "           min_impurity_split=None, min_samples_leaf=100,\n",
       "           min_samples_split=2, min_weight_fraction_leaf=0.0,\n",
       "           presort=False, random_state=None, splitter='best')"
      ]
     },
     "execution_count": 51,
     "metadata": {},
     "output_type": "execute_result"
    }
   ],
   "source": [
    "from sklearn.linear_model import LinearRegression\n",
    "from sklearn.tree import DecisionTreeRegressor\n",
    "\n",
    "det_reg = DecisionTreeRegressor(min_samples_leaf=100)\n",
    "#det_reg = DecisionTreeRegressor()\n",
    "lin_reg = LinearRegression()\n",
    "train_m=housing_m.values\n",
    "train_m=train_m.reshape(-1,1)\n",
    "print(train_m.shape)\n",
    "train_labels=housing_labels.values\n",
    "lin_reg.fit(train_m, train_labels)\n",
    "\n",
    "det_reg.fit(train_m, train_labels)"
   ]
  },
  {
   "cell_type": "code",
   "execution_count": 52,
   "metadata": {},
   "outputs": [
    {
     "name": "stdout",
     "output_type": "stream",
     "text": [
      "83780.2103541\n",
      "84209.0124141\n"
     ]
    }
   ],
   "source": [
    "from sklearn.metrics import mean_squared_error\n",
    "\n",
    "housing_test = test_set.drop(\"median_house_value\", axis=1) # drop labels for training set\n",
    "housing_test_labels = test_set[\"median_house_value\"].copy()\n",
    "\n",
    "housing_test_m = housing_test[\"median_income\"].values.reshape(-1,1)\n",
    "\n",
    "housing_test_m.sort()\n",
    "lin_housing_predictions = lin_reg.predict(housing_test_m)\n",
    "lin_mse = mean_squared_error(housing_test_labels, lin_housing_predictions)\n",
    "lin_rmse = np.sqrt(lin_mse)\n",
    "\n",
    "det_housing_predictions = det_reg.predict(housing_test_m)\n",
    "det_mse = mean_squared_error(housing_test_labels, det_housing_predictions)\n",
    "det_rmse = np.sqrt(det_mse)\n",
    "print(det_rmse)\n",
    "\n",
    "print(lin_rmse)"
   ]
  },
  {
   "cell_type": "code",
   "execution_count": 53,
   "metadata": {},
   "outputs": [
    {
     "data": {
      "image/png": "[encoded data removed]",
      "text/plain": [
       "<matplotlib.figure.Figure at 0x1f3fad27dd8>"
      ]
     },
     "metadata": {},
     "output_type": "display_data"
    }
   ],
   "source": [
    "x = np.arange(0,14,0.1)\n",
    "x = x.reshape(-1,1)\n",
    "det_housing_predictions = det_reg.predict(x)\n",
    "plt.plot(x, det_housing_predictions, \"-\")\n",
    "plt.plot(housing_test_m, housing_test_labels,\".\",markersize =1)\n",
    "plt.show()\n",
    "\n"
   ]
  },
  {
   "cell_type": "code",
   "execution_count": null,
   "metadata": {
    "collapsed": true
   },
   "outputs": [],
   "source": []
  }
 ],
 "metadata": {
  "kernelspec": {
   "display_name": "Python 3",
   "language": "python",
   "name": "python3"
  },
  "language_info": {
   "codemirror_mode": {
    "name": "ipython",
    "version": 3
   },
   "file_extension": ".py",
   "mimetype": "text/x-python",
   "name": "python",
   "nbconvert_exporter": "python",
   "pygments_lexer": "ipython3",
   "version": "3.6.3"
  }
 },
 "nbformat": 4,
 "nbformat_minor": 2
}
