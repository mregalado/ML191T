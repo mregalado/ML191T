{
 "cells": [
  {
   "cell_type": "code",
   "execution_count": 7,
   "metadata": {
    "collapsed": true
   },
   "outputs": [],
   "source": [
    "import math"
   ]
  },
  {
   "cell_type": "code",
   "execution_count": 8,
   "metadata": {},
   "outputs": [
    {
     "name": "stdout",
     "output_type": "stream",
     "text": [
      "56000\n"
     ]
    }
   ],
   "source": [
    "L = [5554,6296,5590,5707,5496,5027,5469,5817,5434,5610]\n",
    "print(sum(L))"
   ]
  },
  {
   "cell_type": "code",
   "execution_count": 9,
   "metadata": {},
   "outputs": [
    {
     "name": "stdout",
     "output_type": "stream",
     "text": [
      "0.8997037206632652\n"
     ]
    }
   ],
   "source": [
    "Fi = [f/sum(L) for f in L]\n",
    "Gini = sum([f*(1-f) for f in Fi])\n",
    "print((Gini))"
   ]
  },
  {
   "cell_type": "code",
   "execution_count": 10,
   "metadata": {
    "collapsed": true
   },
   "outputs": [],
   "source": [
    "#Now Entrophy!"
   ]
  },
  {
   "cell_type": "code",
   "execution_count": 11,
   "metadata": {},
   "outputs": [],
   "source": [
    "Fi = [f/sum(L) for f in L]\n",
    "ent = sum([-1*f*math.log(f,2) for f in Fi])"
   ]
  },
  {
   "cell_type": "code",
   "execution_count": 12,
   "metadata": {},
   "outputs": [
    {
     "name": "stdout",
     "output_type": "stream",
     "text": [
      "3.3198076417940654\n"
     ]
    }
   ],
   "source": [
    "print((ent))"
   ]
  },
  {
   "cell_type": "code",
   "execution_count": null,
   "metadata": {
    "collapsed": true
   },
   "outputs": [],
   "source": [
    "#Now information gain"
   ]
  },
  {
   "cell_type": "code",
   "execution_count": 16,
   "metadata": {},
   "outputs": [
    {
     "name": "stdout",
     "output_type": "stream",
     "text": [
      "36127\n",
      "0.8997037206632652\n"
     ]
    }
   ],
   "source": [
    "Left= [5013,541,4435,1153,5006,2965,4393,5342,2795,4484]\n",
    "print(sum(Left))\n",
    "Fi = [f/sum(L) for f in L]\n",
    "LeftGini = sum([f*(1-f) for f in Fi])\n",
    "print((LeftGini))"
   ]
  },
  {
   "cell_type": "code",
   "execution_count": 18,
   "metadata": {},
   "outputs": [
    {
     "name": "stdout",
     "output_type": "stream",
     "text": [
      "19783\n",
      "0.8224073741673256\n"
     ]
    }
   ],
   "source": [
    "Right = [451,5755,1155,4554,490,2062,1076,475,2639,1126]\n",
    "print(sum(Right))\n",
    "Fi = [f/sum(Right) for f in Right]\n",
    "RightGini = sum([f*(1-f) for f in Fi])\n",
    "print((RightGini))"
   ]
  },
  {
   "cell_type": "code",
   "execution_count": 19,
   "metadata": {},
   "outputs": [
    {
     "name": "stdout",
     "output_type": "stream",
     "text": [
      "0.8709514535634639\n",
      "Information Gain =  -0.04854407939613836\n",
      "0.8224073741673256\n"
     ]
    }
   ],
   "source": [
    "SplitGini = LeftGini* (sum(Left)/sum(L))+RightGini*(sum(Right)/sum(L))\n",
    "print(SplitGini)\n",
    "print(\"Information Gain = \", Gini - SplitGini)\n",
    "print(Gini)"
   ]
  },
  {
   "cell_type": "code",
   "execution_count": null,
   "metadata": {
    "collapsed": true
   },
   "outputs": [],
   "source": []
  }
 ],
 "metadata": {
  "kernelspec": {
   "display_name": "Python 3",
   "language": "python",
   "name": "python3"
  },
  "language_info": {
   "codemirror_mode": {
    "name": "ipython",
    "version": 3
   },
   "file_extension": ".py",
   "mimetype": "text/x-python",
   "name": "python",
   "nbconvert_exporter": "python",
   "pygments_lexer": "ipython3",
   "version": "3.6.3"
  }
 },
 "nbformat": 4,
 "nbformat_minor": 2
}
